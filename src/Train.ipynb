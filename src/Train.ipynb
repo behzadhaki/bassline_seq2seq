{
 "cells": [
  {
   "cell_type": "code",
   "execution_count": null,
   "metadata": {},
   "outputs": [],
   "source": [
    "import seq2seq_LSTM\n",
    "from keras.models import load_model\n",
    "from keras.utils.vis_utils import plot_model\n",
    "from keras.utils.vis_utils import model_to_dot\n",
    "from IPython.display import SVG\n",
    "\n",
    "%pylab inline"
   ]
  },
  {
   "cell_type": "markdown",
   "metadata": {},
   "source": [
    "## Specify the number of loops And Locate the bassline and drum dataset files"
   ]
  },
  {
   "cell_type": "code",
   "execution_count": null,
   "metadata": {},
   "outputs": [],
   "source": [
    "nbars = 2 \n",
    "\n",
    "bassline_dataset_file = \"../data/bassline_size_50[WithOffet]_translated_to_midi_36-\"+str(int(nbars))+\"bars.txt\"\n",
    "drum_dataset_file = \"../data/drum_size_50.txt\""
   ]
  },
  {
   "cell_type": "markdown",
   "metadata": {},
   "source": [
    "## Model Architecture (Please understand the code before modifying)"
   ]
  },
  {
   "cell_type": "code",
   "execution_count": null,
   "metadata": {},
   "outputs": [],
   "source": [
    "drum_dataset_0b, drum_dataset_int, bassline_dataset = seq2seq_LSTM.get_sequences(bassline_dataset_file, drum_dataset_file)\n",
    "\n",
    "output_cardinality = len(np.unique(bassline_dataset))+2 # <<<<<<<<<<<<<<<<<<<< +1 is for the starting character\n",
    "input_cardinality = 2**8 # <<<<<<<<<<<<<<<<<<<<\n",
    "\n",
    "print(\"Number of Bassline Unique Words: \\n\\t\\t\", output_cardinality)\n",
    "print(\"Bassline Unique Words:  \\n\\t\\t \", np.unique(bassline_dataset))\n",
    "\n",
    "# configure problem\n",
    "n_features_drums = input_cardinality           # 2^8 different unique drum combinations #Cardinality of Input\n",
    "n_features_bassline = output_cardinality        #Cardinality of Output\n",
    "n_units = 128\n",
    "\n",
    "# define model\n",
    "train, infenc, infdec = seq2seq_LSTM.define_models(input_cardinality, output_cardinality, n_units)\n",
    "train.compile(optimizer='adam', loss='categorical_crossentropy', metrics=['acc'])\n",
    "\n",
    "encoder_input, decoder_input, decoder_output, drum_dataset_int_words_tokens, target_words_tokens, target_in_words_tokens = seq2seq_LSTM.get_dataset(drum_dataset_int, \n",
    "                                                                                                                                                    bassline_dataset, \n",
    "                                                                                                                                                    padding_value = \"S\", \n",
    "                                                                                                                                                    input_cardinality=input_cardinality, \n",
    "                                                                                                                                                    output_cardinality=output_cardinality)\n",
    "\n",
    "print (\"drum_dataset_int_words_tokens \\n\", drum_dataset_int_words_tokens)\n",
    "print (\"target_words_tokens \\n\", target_words_tokens)\n",
    "print (\"target_in_words_tokens \\n\", target_in_words_tokens)\n",
    "\n",
    "# Show Summary\n",
    "train.summary()\n",
    "\n",
    "# plot_model(train, to_file='model_plot.png', show_shapes=True, show_layer_names=True)\n",
    "plot_model(train, to_file='model_plot.png', show_shapes=True, show_layer_names=True)\n",
    "SVG(model_to_dot(train).create(prog='dot', format='svg'))\n",
    "\n"
   ]
  },
  {
   "cell_type": "markdown",
   "metadata": {},
   "source": [
    "## Specify the number of Epochs used for training"
   ]
  },
  {
   "cell_type": "code",
   "execution_count": null,
   "metadata": {},
   "outputs": [],
   "source": [
    "epochs = 4000"
   ]
  },
  {
   "cell_type": "markdown",
   "metadata": {},
   "source": [
    "## Train the model"
   ]
  },
  {
   "cell_type": "code",
   "execution_count": null,
   "metadata": {},
   "outputs": [],
   "source": [
    "history = train.fit([encoder_input, decoder_input], decoder_output, epochs=epochs)"
   ]
  },
  {
   "cell_type": "markdown",
   "metadata": {},
   "source": [
    "## Save the Encoder/Decoder models"
   ]
  },
  {
   "cell_type": "code",
   "execution_count": null,
   "metadata": {},
   "outputs": [],
   "source": [
    "infenc.save(\"infenc_epoch_\"+str(epochs)+\"_InputCar_\"+str(input_cardinality)+\n",
    "            \"_OutputCar_\"+str(output_cardinality)+\"_n_units_\"+str(n_units)+\".h5\")\n",
    "infdec.save(\"infdec_epoch_\"+str(epochs)+\"_InputCar_\"+str(input_cardinality)+\n",
    "            \"_OutputCar_\"+str(output_cardinality)+\"_n_units_\"+str(n_units)+\".h5\")"
   ]
  },
  {
   "cell_type": "markdown",
   "metadata": {},
   "source": [
    "## Performance Plots"
   ]
  },
  {
   "cell_type": "code",
   "execution_count": null,
   "metadata": {},
   "outputs": [],
   "source": [
    "pylab.rcParams['figure.figsize'] = (10, 6)\n",
    "\n",
    "# summarize history for accuracy\n",
    "plt.subplot(2, 1, 1)\n",
    "plt.plot(history.history['acc'])\n",
    "#plt.plot(history.history['val_acc'])\n",
    "plt.title('model accuracy')\n",
    "plt.ylabel('accuracy')\n",
    "plt.xlabel('epoch')\n",
    "#plt.legend(['train', 'test'], loc='upper left')\n",
    "plt.legend(['train'], loc='upper left')\n",
    "plt.show()\n",
    "\n",
    "# summarize history for loss\n",
    "plt.subplot(2, 1, 2)\n",
    "plt.plot(history.history['loss'])\n",
    "#plt.plot(history.history['val_loss'])\n",
    "plt.title('model loss')\n",
    "plt.ylabel('loss')\n",
    "plt.xlabel('epoch')\n",
    "#plt.legend(['train', 'test'], loc='upper left')\n",
    "plt.legend(['train'], loc='upper left')\n",
    "plt.show()"
   ]
  },
  {
   "cell_type": "code",
   "execution_count": null,
   "metadata": {},
   "outputs": [],
   "source": []
  }
 ],
 "metadata": {
  "kernelspec": {
   "display_name": "Python 3",
   "language": "python",
   "name": "python3"
  },
  "language_info": {
   "codemirror_mode": {
    "name": "ipython",
    "version": 3
   },
   "file_extension": ".py",
   "mimetype": "text/x-python",
   "name": "python",
   "nbconvert_exporter": "python",
   "pygments_lexer": "ipython3",
   "version": "3.6.4"
  }
 },
 "nbformat": 4,
 "nbformat_minor": 2
}
