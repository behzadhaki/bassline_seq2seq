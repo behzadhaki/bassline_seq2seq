{
 "cells": [
  {
   "cell_type": "code",
   "execution_count": null,
   "metadata": {},
   "outputs": [],
   "source": [
    "import seq2seq_LSTM\n",
    "from keras.models import load_model\n",
    "\n",
    "%pylab inline"
   ]
  },
  {
   "cell_type": "markdown",
   "metadata": {},
   "source": [
    "## Specify the number of loops And Locate the bassline and drum dataset files\n",
    "\n",
    "## **Same files as the ones used for training**"
   ]
  },
  {
   "cell_type": "code",
   "execution_count": null,
   "metadata": {},
   "outputs": [],
   "source": [
    "nbars = 2 # <<<<<<<<<<<<<<<<<<<<\n",
    "\n",
    "bassline_dataset_file = \"../data/bassline_size_50[WithOffet]_translated_to_midi_36-\"+str(int(nbars))+\"bars.txt\"\n",
    "drum_dataset_file = \"../data/drum_size_50.txt\""
   ]
  },
  {
   "cell_type": "markdown",
   "metadata": {},
   "source": [
    "## Create drum and bassline tokens ( DO NOT MODIFY THE CODE)"
   ]
  },
  {
   "cell_type": "code",
   "execution_count": null,
   "metadata": {},
   "outputs": [],
   "source": [
    "drum_dataset_0b, drum_dataset_int, bassline_dataset = seq2seq_LSTM.get_sequences(bassline_dataset_file, drum_dataset_file)\n",
    "\n",
    "output_cardinality = len(np.unique(bassline_dataset))+2\n",
    "input_cardinality = 2**8\n",
    "\n",
    "print(\"Bassline Features: \", np.unique(bassline_dataset))\n",
    "\n",
    "# configure problem\n",
    "n_features_drums = input_cardinality           # 2^8 different unique drum combinations #Cardinality of Input\n",
    "n_features_bassline = output_cardinality        #Cardinality of Output\n",
    "n_units = 128\n",
    "\n",
    "encoder_input, decoder_input, decoder_output, drum_dataset_int_words_tokens, target_words_tokens, target_in_words_tokens = seq2seq_LSTM.get_dataset(drum_dataset_int, \n",
    "                                                                                                                                                    bassline_dataset, \n",
    "                                                                                                                                                    padding_value = \"S\", \n",
    "                                                                                                                                                    input_cardinality=input_cardinality, \n",
    "                                                                                                                                                    output_cardinality=output_cardinality+1)\n",
    "\n",
    "print (\"drum_dataset_int_words_tokens\", drum_dataset_int_words_tokens)\n",
    "print (\"target_words_tokens\", target_words_tokens)\n",
    "print (\"target_in_words_tokens\", target_in_words_tokens)\n"
   ]
  },
  {
   "cell_type": "markdown",
   "metadata": {},
   "source": [
    "## Select the model to be used for prediction"
   ]
  },
  {
   "cell_type": "code",
   "execution_count": null,
   "metadata": {},
   "outputs": [],
   "source": [
    "epochs = 4000"
   ]
  },
  {
   "cell_type": "code",
   "execution_count": null,
   "metadata": {},
   "outputs": [],
   "source": [
    "infenc=load_model(\"infenc_epoch_\"+str(epochs)+\"_InputCar_\"+str(input_cardinality)+\n",
    "                  \"_OutputCar_\"+str(output_cardinality)+\"_n_units_\"+str(n_units)+\".h5\")\n",
    "infdec=load_model(\"infdec_epoch_\"+str(epochs)+\"_InputCar_\"+str(input_cardinality)+\n",
    "                  \"_OutputCar_\"+str(output_cardinality)+\"_n_units_\"+str(n_units)+\".h5\")"
   ]
  },
  {
   "cell_type": "markdown",
   "metadata": {},
   "source": [
    "## Load the test files: Drums for which basslines are to be generated"
   ]
  },
  {
   "cell_type": "code",
   "execution_count": null,
   "metadata": {},
   "outputs": [],
   "source": [
    "# get test files\n",
    "drum_text_txt = \"../data_test/drum_size_15.txt\"\n",
    "drum_testset_0b, drum_testset_int = seq2seq_LSTM.get_drum_sequences(drum_dataset_file=drum_text_txt)\n",
    "print(drum_testset_0b)"
   ]
  },
  {
   "cell_type": "markdown",
   "metadata": {},
   "source": [
    "## Predict\n",
    "\n",
    "### sample_mode: \n",
    "   #### Mode 0: Select the highest probable output\n",
    "   #### Mode 1: Select based on the probability distribution (as is, not scaled)\n",
    "   #### Mode 2: Scale the distribution using temperature and output most probable one"
   ]
  },
  {
   "cell_type": "code",
   "execution_count": null,
   "metadata": {},
   "outputs": [],
   "source": [
    "for k in range(15):\n",
    "    sample_mode = 2\n",
    "    temperature = 2\n",
    "    n_steps = nbars*16\n",
    "\n",
    "    print(drum_dataset_int_words_tokens)\n",
    "\n",
    "    source_Vectorized = seq2seq_LSTM.Vectorize(drum_testset_int[k], drum_dataset_int_words_tokens)\n",
    "\n",
    "    source = seq2seq_LSTM.to_categorical([source_Vectorized], num_classes=input_cardinality)\n",
    "\n",
    "    prediction = seq2seq_LSTM.predict_sequence(infenc, infdec, source, n_steps=n_steps, cardinality=output_cardinality)\n",
    "\n",
    "    drum_dataset_int_tokens_words = {v: k for k, v in target_words_tokens.items()}\n",
    "\n",
    "    output_encoded = seq2seq_LSTM.one_hot_decode(prediction)\n",
    "\n",
    "    bassline_array = seq2seq_LSTM.one_hot_to_bassline(prediction,target_words_tokens, \n",
    "                                                      sample_mode=sample_mode, \n",
    "                                                      temperature=temperature)\n",
    "    print(bassline_array)\n",
    "\n",
    "    if sample_mode in [0, 1]:\n",
    "        midi_filename = \"../data_test/\"+str(k+1)+\"/epoch_\"+str(epochs)+\"_InputCar_\"+str(input_cardinality)+\"_OutputCar_\"+str(output_cardinality)+\"_n_units_\"+str(n_units)+\".mid\"\n",
    "    if sample_mode in [2, 3]:\n",
    "        midi_filename = \"../data_test/\"+str(k+1)+\"/epoch_\"+str(epochs)+\"_InputCar_\"+str(input_cardinality)+\"_OutputCar_\"+str(output_cardinality)+\"_n_units_\"+str(n_units)+\"_temperature_\"+str(temperature)+\".mid\"\n",
    "\n",
    "    seq2seq_LSTM.bassline_to_midi(bassline_array, \n",
    "                                  midi_filename, \n",
    "                                  note_duration=.25)\n"
   ]
  },
  {
   "cell_type": "code",
   "execution_count": null,
   "metadata": {},
   "outputs": [],
   "source": []
  },
  {
   "cell_type": "code",
   "execution_count": null,
   "metadata": {},
   "outputs": [],
   "source": []
  }
 ],
 "metadata": {
  "kernelspec": {
   "display_name": "Python 3",
   "language": "python",
   "name": "python3"
  },
  "language_info": {
   "codemirror_mode": {
    "name": "ipython",
    "version": 3
   },
   "file_extension": ".py",
   "mimetype": "text/x-python",
   "name": "python",
   "nbconvert_exporter": "python",
   "pygments_lexer": "ipython3",
   "version": "3.6.4"
  }
 },
 "nbformat": 4,
 "nbformat_minor": 2
}
